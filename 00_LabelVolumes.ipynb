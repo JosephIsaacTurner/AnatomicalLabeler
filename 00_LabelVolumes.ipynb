{
 "cells": [
  {
   "cell_type": "markdown",
   "metadata": {},
   "source": [
    "#### AnatomicalLabeler: A Python Class for Identifying Anatomical Regions Regions in NIfTI Files\n",
    "**1. Anatomically label a NIfTI volume using a standard atlas**"
   ]
  },
  {
   "cell_type": "code",
   "execution_count": null,
   "metadata": {},
   "outputs": [],
   "source": [
    "import AnatomicalLabeler\n",
    "\n",
    "# Path to the atlas (if not provided, defaults to the deterministic Harvard Oxford cortical atlas)\n",
    "atlas_path = r\"atlases/HarvardOxford-cort-maxprob-thr0-2mm.nii.gz\" \n",
    "\n",
    "volume_to_label = r'volumes/30lechowiczglogowska2019.nii.gz' # Path to the volume to label\n",
    "\n",
    "# Label the volume and return voxel counts and the unique regions in the volume\n",
    "labeled_results = AnatomicalLabeler.AtlasLabeler(volume_to_label, atlas_path).label_volume()\n",
    "labeled_results.voxel_counts, labeled_results.unique_labels"
   ]
  },
  {
   "cell_type": "markdown",
   "metadata": {},
   "source": [
    "**2. Anatomically label a NIfTI volume using multiple standard atlases**"
   ]
  },
  {
   "cell_type": "code",
   "execution_count": null,
   "metadata": {},
   "outputs": [],
   "source": [
    "import AnatomicalLabeler\n",
    "\n",
    "# List of paths to the atlases (if not provided, defaults to the deterministic Harvard Oxford cortical and subcortical atlases)\n",
    "atlases = [r\"atlases/HarvardOxford-cort-maxprob-thr0-2mm.nii.gz\", r\"atlases/HarvardOxford-sub-maxprob-thr0-2mm.nii.gz\"] \n",
    "\n",
    "volume_to_label = r'volumes/30lechowiczglogowska2019.nii.gz' # Path to the volume to label\n",
    "\n",
    "results_cort_and_sub = AnatomicalLabeler.MultiAtlasLabeler(volume_to_label, atlases).label_volume()\n",
    "results_cort_and_sub.voxel_counts, results_cort_and_sub.unique_labels"
   ]
  },
  {
   "cell_type": "markdown",
   "metadata": {},
   "source": [
    "**3. Anatomically label a NIfTI volume using a custom atlas**\n",
    "\n",
    "Custom atlases consist of CSVs with the following columns:\n",
    "- `region_name` : The name of the region\n",
    "- `mask_path` : The path to the corresponding anatomical mask file"
   ]
  },
  {
   "cell_type": "code",
   "execution_count": null,
   "metadata": {},
   "outputs": [],
   "source": [
    "import AnatomicalLabeler\n",
    "\n",
    "# Path to custom_atlas csv file (can also be a DataFrame object)\n",
    "custom_atlas = r\"atlases/joseph_custom_atlas.csv\" # If not provided, defaults to my custom atlas (see the joseph_custom_atlas.csv file)\n",
    "\n",
    "volume_to_label = r'volumes/30lechowiczglogowska2019.nii.gz' # Path to the volume to label\n",
    "\n",
    "results_custom = AnatomicalLabeler.CustomAtlasLabeler(volume_to_label, custom_atlas).label_volume()\n",
    "results_custom.voxel_counts, results_custom.unique_labels"
   ]
  },
  {
   "cell_type": "markdown",
   "metadata": {},
   "source": [
    "**4. Add anatomical voxel counts to a CSV or DataFrame of NIfTI files using standard, multiple, or custom atlases**"
   ]
  },
  {
   "cell_type": "code",
   "execution_count": null,
   "metadata": {},
   "outputs": [],
   "source": [
    "from AnatomicalLabeler import label_csv_atlas, label_csv_multi_atlas, label_csv_custom_atlas\n",
    "\n",
    "# Path to custom_atlas csv file (can also be a DataFrame object)\n",
    "custom_atlas = r\"atlases/joseph_custom_atlas.csv\" # If not provided, defaults to my custom atlas (see the joseph_custom_atlas.csv file)\n",
    "csv_path = r\"takotsubo_small.csv\" # CSV file of volumes\n",
    "roi_col_name = \"orig_roi_vol\" # Column name of the NIfTI filepaths to label (defaults to \"roi_2mm\")\n",
    "\n",
    "# Replace function with label_csv_atlas or label_csv_multi_atlas for the other atlas types\n",
    "labeled_csv = label_csv_custom_atlas(csv_path, roi_col_name, custom_atlas)\n",
    "labeled_csv"
   ]
  },
  {
   "cell_type": "markdown",
   "metadata": {},
   "source": [
    "**5. Advanced Options: Specify thresholds (for continuous volumes)**\n",
    "\n",
    "Useful when identifying regions of peak signal/significance in a continuous NIfTI volume"
   ]
  },
  {
   "cell_type": "code",
   "execution_count": null,
   "metadata": {},
   "outputs": [],
   "source": [
    "from AnatomicalLabeler import label_csv_atlas, label_csv_multi_atlas, label_csv_custom_atlas\n",
    "\n",
    "# Path to custom_atlas csv file (can also be a DataFrame object)\n",
    "custom_atlas = r\"atlases/joseph_custom_atlas.csv\" # If not provided, defaults to my custom atlas (see the joseph_custom_atlas.csv file)\n",
    "csv_path = r\"takotsubo_small.csv\" # CSV file of volumes\n",
    "roi_col_name = \"t\" # Column name of the NIfTI filepaths to label (defaults to \"roi_2mm\")\n",
    "\n",
    "min_threshold = 30\n",
    "max_threshold = 100\n",
    "\n",
    "# Replace function with label_csv_atlas or label_csv_multi_atlas for the other atlas types\n",
    "labeled_csv = label_csv_custom_atlas(csv_path, roi_col_name, min_threshold, max_threshold, custom_atlas)\n",
    "labeled_csv"
   ]
  }
 ],
 "metadata": {
  "kernelspec": {
   "display_name": "ni_env",
   "language": "python",
   "name": "python3"
  },
  "language_info": {
   "codemirror_mode": {
    "name": "ipython",
    "version": 3
   },
   "file_extension": ".py",
   "mimetype": "text/x-python",
   "name": "python",
   "nbconvert_exporter": "python",
   "pygments_lexer": "ipython3",
   "version": "3.10.8"
  }
 },
 "nbformat": 4,
 "nbformat_minor": 2
}
